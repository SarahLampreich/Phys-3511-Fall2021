{
 "cells": [
  {
   "cell_type": "code",
   "execution_count": 185,
   "id": "0c8a8bf1",
   "metadata": {},
   "outputs": [],
   "source": [
    "import numpy as np \n",
    "import matplotlib.pyplot as plt\n",
    "import scipy.special as ssp\n",
    "from scipy.optimize import leastsq\n",
    "from scipy.optimize import curve_fit\n",
    "from scipy import integrate"
   ]
  },
  {
   "cell_type": "markdown",
   "id": "e792ee18",
   "metadata": {},
   "source": [
    "# Problem 1 "
   ]
  },
  {
   "cell_type": "code",
   "execution_count": 110,
   "id": "56f065e5",
   "metadata": {},
   "outputs": [],
   "source": [
    "number, mass, uncert = np.loadtxt( 'Wmass_data.txt', unpack = True)"
   ]
  },
  {
   "cell_type": "markdown",
   "id": "07153795",
   "metadata": {},
   "source": [
    "## Part b"
   ]
  },
  {
   "cell_type": "code",
   "execution_count": 111,
   "id": "7386f190",
   "metadata": {},
   "outputs": [
    {
     "name": "stdout",
     "output_type": "stream",
     "text": [
      "Error Weighted Mean: 80.40834310281743 , The weighted mean has a perecent error of 0.03650593167048749\n"
     ]
    }
   ],
   "source": [
    "error_weighted_mean= np.average(mass, weights= uncert**2)\n",
    "error_weighted_mean\n",
    "PDG=80.379\n",
    "perror=(np.abs(error_weighted_mean-PDG)/PDG) *100\n",
    "\n",
    "print(\"Error Weighted Mean:\", error_weighted_mean, \", The weighted mean has a perecent error of\", perror)"
   ]
  },
  {
   "cell_type": "markdown",
   "id": "ad2c40ec",
   "metadata": {},
   "source": [
    "## Part c "
   ]
  },
  {
   "cell_type": "code",
   "execution_count": 112,
   "id": "cf63e34b",
   "metadata": {},
   "outputs": [
    {
     "name": "stdout",
     "output_type": "stream",
     "text": [
      "The Chi Squared value is:  8.707036304862834\n",
      "The reduced Chi Sqared value is: 1.243862329266119\n",
      "The P value is: 0.2743795204721061\n"
     ]
    }
   ],
   "source": [
    "ChiSqr= np.sum((mass-PDG)**2/uncert**2)\n",
    "DOF= len(number)-2 #-2 is because there is only one param. and then the typical -1 \n",
    "Reduced_ChiSqr= ChiSqr/ DOF\n",
    "P_Value= ssp.gammaincc(DOF/2, ChiSqr/2)\n",
    "\n",
    "\n",
    "print(\"The Chi Squared value is: \", ChiSqr)\n",
    "print(\"The reduced Chi Sqared value is:\" , Reduced_ChiSqr)\n",
    "print(\"The P value is:\", P_Value)"
   ]
  },
  {
   "cell_type": "markdown",
   "id": "2babf458",
   "metadata": {},
   "source": [
    "## Part d"
   ]
  },
  {
   "cell_type": "code",
   "execution_count": 113,
   "id": "28ef8e06",
   "metadata": {},
   "outputs": [
    {
     "data": {
      "image/png": "[encoded data removed]",
      "text/plain": [
       "<Figure size 432x288 with 1 Axes>"
      ]
     },
     "metadata": {
      "needs_background": "light"
     },
     "output_type": "display_data"
    }
   ],
   "source": [
    "fig= plt.figure()\n",
    "axes= fig.add_axes([0.9,0.9,0.9,0.9])\n",
    "axes.errorbar(number, mass, uncert, fmt= '.', label = \"Error\")\n",
    "\n",
    "\n",
    "numberlist=[]\n",
    "for i in range (len(number)):\n",
    "    numberlist.insert(i, PDG)\n",
    "    \n",
    "axes.plot(number, numberlist, label=\"Fit Line\")\n",
    "\n",
    "\n",
    "\n",
    "errorlist= []\n",
    "for i in range (len(number)):\n",
    "    errorlist.insert(i, error_weighted_mean)\n",
    "\n",
    "axes.plot(number, errorlist, label= \"Calc. Weighted Mean\")\n",
    "\n",
    "\n",
    "\n",
    "axes.set_xlabel(\"Trial Number\")\n",
    "axes.set_ylabel(\" Mass ( GeV/C^2)\")\n",
    "axes.legend();"
   ]
  },
  {
   "cell_type": "markdown",
   "id": "4d289e31",
   "metadata": {},
   "source": [
    "# Problem 2"
   ]
  },
  {
   "cell_type": "code",
   "execution_count": 114,
   "id": "a6228fce",
   "metadata": {},
   "outputs": [],
   "source": [
    "exp_number, radius, r_uncert =np.loadtxt('proton_radius_data.txt', unpack= True)"
   ]
  },
  {
   "cell_type": "markdown",
   "id": "490bda08",
   "metadata": {},
   "source": [
    "### Part b"
   ]
  },
  {
   "cell_type": "code",
   "execution_count": 115,
   "id": "f77cb73c",
   "metadata": {},
   "outputs": [
    {
     "name": "stdout",
     "output_type": "stream",
     "text": [
      "The error weighted mean of the proton charge radius is: 0.8876640673847367\n",
      "The percent error between the error weighted mean and the PDG value is: 1.435729332046246\n"
     ]
    }
   ],
   "source": [
    "R_ew_mean= np.average(radius, weights= r_uncert)\n",
    "print(\"The error weighted mean of the proton charge radius is:\", R_ew_mean)\n",
    "P_PDG= 0.8751 \n",
    "\n",
    "P_Error= np.abs(P_PDG- R_ew_mean)/P_PDG *100\n",
    "print(\"The percent error between the error weighted mean and the PDG value is:\", P_Error)"
   ]
  },
  {
   "cell_type": "markdown",
   "id": "d386071b",
   "metadata": {},
   "source": [
    "### Part c"
   ]
  },
  {
   "cell_type": "code",
   "execution_count": 116,
   "id": "d03ee8cb",
   "metadata": {},
   "outputs": [
    {
     "name": "stdout",
     "output_type": "stream",
     "text": [
      "The Chi Squared value is: 10285.48511513286\n",
      "The Reduced Chi Sqaured Value is: 791.1911627025277\n",
      "The P value is: 0.0\n"
     ]
    }
   ],
   "source": [
    "DOF= len(exp_number)-2 \n",
    "P_Chisqr=np.sum((radius- P_PDG)**2 / r_uncert**2)\n",
    "RP_Chisqr= P_Chisqr/DOF\n",
    "pvalue= ssp.gammaincc(DOF/2, P_Chisqr/2)\n",
    "\n",
    "print(\"The Chi Squared value is:\", P_Chisqr)\n",
    "print(\"The Reduced Chi Sqaured Value is:\",  RP_Chisqr)\n",
    "print(\"The P value is:\", pvalue)"
   ]
  },
  {
   "cell_type": "markdown",
   "id": "0797d35b",
   "metadata": {},
   "source": [
    "## Part d"
   ]
  },
  {
   "cell_type": "code",
   "execution_count": 117,
   "id": "eeb10fd3",
   "metadata": {},
   "outputs": [
    {
     "data": {
      "image/png": "[encoded data removed]",
      "text/plain": [
       "<Figure size 432x288 with 1 Axes>"
      ]
     },
     "metadata": {
      "needs_background": "light"
     },
     "output_type": "display_data"
    }
   ],
   "source": [
    "fig2= plt.figure()\n",
    "axes= fig2.add_axes([0.9,0.9,0.9,0.9])\n",
    "axes.scatter(exp_number, radius, label= \"Measured Radius\")\n",
    "axes.errorbar( exp_number, radius, r_uncert, fmt='.', label= \"Error\")\n",
    "axes.set_xlabel(\"Trial Number\")\n",
    "axes.set_ylabel(\"Proton Charge Radius (femtometres)\")\n",
    "\n",
    "mtlist=[]\n",
    "for i in range (len(exp_number)):\n",
    "    mtlist.insert(i, P_PDG)\n",
    "\n",
    "nlist= []\n",
    "for i in range(len(exp_number)):\n",
    "    nlist.insert(i,R_ew_mean)\n",
    "    \n",
    "axes.plot(exp_number, mtlist, label= \"Fit Line\")\n",
    "axes.plot(exp_number, nlist, label= \"Calc. Error Weighted Mean\")\n",
    "axes.legend();"
   ]
  },
  {
   "cell_type": "markdown",
   "id": "1e28162a",
   "metadata": {},
   "source": [
    "# Problem 3"
   ]
  },
  {
   "cell_type": "code",
   "execution_count": 118,
   "id": "6236c6b0",
   "metadata": {},
   "outputs": [
    {
     "data": {
      "image/png": "[encoded data removed]",
      "text/plain": [
       "<Figure size 432x288 with 1 Axes>"
      ]
     },
     "metadata": {
      "needs_background": "light"
     },
     "output_type": "display_data"
    }
   ],
   "source": [
    "ep, number_part, uncert_number= np.loadtxt('Ep_data.txt', unpack= True)\n",
    "fig=plt.figure()\n",
    "axes = fig.add_axes([0.15,0.1,0.8,0.8])\n",
    "axes.scatter(ep, number_part, label= \"measured value\")\n",
    "axes.errorbar(ep, number_part, uncert_number, fmt='.', label= \"error\")\n",
    "axes.set_ylabel('Number of Particles')\n",
    "axes.set_xlabel('Energy/Momentum');\n",
    "axes.legend();"
   ]
  },
  {
   "cell_type": "markdown",
   "id": "06c38e51",
   "metadata": {},
   "source": [
    "## Part b and d"
   ]
  },
  {
   "cell_type": "code",
   "execution_count": 202,
   "id": "13b759d7",
   "metadata": {},
   "outputs": [
    {
     "data": {
      "image/png": "[encoded data removed]",
      "text/plain": [
       "<Figure size 432x288 with 1 Axes>"
      ]
     },
     "metadata": {
      "needs_background": "light"
     },
     "output_type": "display_data"
    }
   ],
   "source": [
    "x=ep\n",
    "y= number_part\n",
    "\n",
    "def gaussa(x,a1,c1,sig1):\n",
    "    return a1*np.exp(-1*(x-c1)**2/ (2*sig1))\n",
    "\n",
    "def gaussb(x, a2,c2, sig2):\n",
    "    return a2*np.exp(-1*(x-c2)**2/(2*sig2))\n",
    "\n",
    "def twogauss(x, a1, c1, sig1, a2, c2, sig2):\n",
    "    return a1*np.exp(-1*(x-c1)**2/ (2*sig1)) + (a2*np.exp(-1*(x-c2)**2/(2*sig2)))\n",
    "\n",
    "t, v= curve_fit(twogauss, x, y, sigma= uncert_number, absolute_sigma= True)\n",
    "\n",
    "fig3= plt.figure()\n",
    "axes= fig3.add_axes([1,1,1.4,1.2])\n",
    "axes.scatter(x, y)\n",
    "axes.plot(x, twogauss(x, *t), label= \"Total fit\", color= \"Black\")\n",
    "axes.plot(x, gaussa(x, t[0], t[1], t[2]), label= \"Electron Fit\")\n",
    "axes. plot(x, gaussb(x, t[3], t[4], t[5]), label= \"Pion Fit\")\n",
    "axes.errorbar(ep, number_part, uncert_number, fmt='.', label= \"data\",)\n",
    "axes.legend();"
   ]
  },
  {
   "cell_type": "markdown",
   "id": "74978f21",
   "metadata": {},
   "source": [
    "## Part c"
   ]
  },
  {
   "cell_type": "code",
   "execution_count": 200,
   "id": "b2bd6b31",
   "metadata": {},
   "outputs": [
    {
     "name": "stdout",
     "output_type": "stream",
     "text": [
      "The Chi Squared value is: 3097470.5916937906\n",
      "The Reduced Chi Sqared Value is: 32265.318663476985\n",
      "The Degrees of freedom are: 96\n",
      "The P-Value is: 0.0\n"
     ]
    }
   ],
   "source": [
    "list3=[]\n",
    "for i in range(len(ep)):\n",
    "    list3.insert (i, t3)\n",
    "ChiSqr= np.sum((ep-list3)**2/uncert_number**2 )   \n",
    "DOF3= len(ep)-4\n",
    "RedChiSqr= ChiSqr/DOF3\n",
    "PV= ssp.gammaincc(DOF3/2, ChiSqr/2)\n",
    "print(\"The Chi Squared value is:\", ChiSqr)\n",
    "print(\"The Reduced Chi Sqared Value is:\", RedChiSqr)\n",
    "print (\"The Degrees of freedom are:\",  DOF3)\n",
    "print (\"The P-Value is:\", PV)"
   ]
  },
  {
   "cell_type": "markdown",
   "id": "5ebb0d62",
   "metadata": {},
   "source": [
    "## Part e "
   ]
  },
  {
   "cell_type": "code",
   "execution_count": 255,
   "id": "0ce49fad",
   "metadata": {},
   "outputs": [],
   "source": [
    "N= 10\n",
    "limits= np.linspace(0.3, 0.8, N) \n",
    "e_tot= integrate.quad(gaussa, 0, 2, args= (t[0], t[1], t[2]))[0]\n",
    "pi_tot= integrate.quad(gaussb, 0,2, args= (t[3], t[4], t[5]))[0]\n",
    "\n",
    "e_sig= list()\n",
    "pi_sig=list()\n",
    "\n",
    "for i in range (len(limits)):\n",
    "    ei= integrate.quad(lambda x: gaussa(x,t[0],t[1],t[2]), limits[i], 2)\n",
    "    e_sig.insert(i, ei[0])\n",
    "\n",
    "for i in range(len(limits)):\n",
    "    pi=integrate.quad(lambda x: gaussb(x, t[3], t[4], t[5]),limits[i], 2)\n",
    "    pi_sig.insert(i, pi[0])\n",
    "    \n",
    "e_sig=np.asarray(e_sig)\n",
    "pi_sig= np.asarray(pi_sig)\n",
    "\n"
   ]
  },
  {
   "cell_type": "markdown",
   "id": "3a63e350",
   "metadata": {},
   "source": [
    "## Part f "
   ]
  },
  {
   "cell_type": "code",
   "execution_count": 257,
   "id": "f3e7210a",
   "metadata": {},
   "outputs": [
    {
     "data": {
      "image/png": "[encoded data removed]",
      "text/plain": [
       "<Figure size 432x288 with 1 Axes>"
      ]
     },
     "metadata": {
      "needs_background": "light"
     },
     "output_type": "display_data"
    }
   ],
   "source": [
    "electron_ratio= (e_sig/e_tot)\n",
    "pion_ratio= (pi_sig/pi_tot)\n",
    "electron_ratio_percent= (electron_ratio*100)\n",
    "pion_ratio_percent= (pion_ratio*100)\n",
    "p1=electron_ratio_percent\n",
    "p2=pion_ratio_percent\n",
    "fig4=plt.figure()\n",
    "axes= fig4.add_axes([1,1,1,1])\n",
    "axes.scatter(limits, p1 , label = \"Electron\")\n",
    "axes.scatter(limits, p2, label= \"Pions\")\n",
    "axes.legend();"
   ]
  },
  {
   "cell_type": "markdown",
   "id": "342429c1",
   "metadata": {},
   "source": [
    "## Part g "
   ]
  },
  {
   "cell_type": "code",
   "execution_count": 266,
   "id": "67395def",
   "metadata": {},
   "outputs": [
    {
     "name": "stdout",
     "output_type": "stream",
     "text": [
      "[99.80850553 99.6119747  99.25235587 98.62752968 97.59671315 95.98194897\n",
      " 93.58011681 90.18791082 85.63878479 79.84609787]\n",
      "[99.82853353 99.14991313 96.76236508 90.44366337 77.86211554 59.01132592\n",
      " 37.7568863  19.72234744  8.20689098  2.67416874]\n"
     ]
    }
   ],
   "source": [
    "print(p1)\n",
    "print(p2)"
   ]
  },
  {
   "cell_type": "code",
   "execution_count": 265,
   "id": "db495336",
   "metadata": {},
   "outputs": [
    {
     "name": "stdout",
     "output_type": "stream",
     "text": [
      "When Electron ratio is : 90.18791081801282 The percentage of Pion distrubution contiminating the sample is:  19.72234743827767\n"
     ]
    }
   ],
   "source": [
    "print(\"When Electron ratio is :\", p1[7], \"The percentage of Pion distrubution contiminating the sample is: \", p2[7] )"
   ]
  }
 ],
 "metadata": {
  "kernelspec": {
   "display_name": "Python 3",
   "language": "python",
   "name": "python3"
  },
  "language_info": {
   "codemirror_mode": {
    "name": "ipython",
    "version": 3
   },
   "file_extension": ".py",
   "mimetype": "text/x-python",
   "name": "python",
   "nbconvert_exporter": "python",
   "pygments_lexer": "ipython3",
   "version": "3.8.8"
  }
 },
 "nbformat": 4,
 "nbformat_minor": 5
}
