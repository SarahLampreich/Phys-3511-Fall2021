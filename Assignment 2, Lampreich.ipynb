{
 "cells": [
  {
   "cell_type": "markdown",
   "metadata": {},
   "source": [
    "Assignment 2a Due 9/8\n",
    "In this assigment you will explore and become familiar with writing and using algorithms to numerically approxomate definite integrals.\n",
    "\n",
    "Assignment Overview:\n",
    "\n",
    "Impliment your own midpoint, trapazoid, and Simpson's rule integration algorithms\n",
    "Use those to solve a definite integral\n",
    "Compare your algorithms to those from scipy\n",
    "Compare all approximate solutions to the exact solutions\n",
    "You can import only the following packages: numpy, math, scipy,"
   ]
  },
  {
   "cell_type": "code",
   "execution_count": 188,
   "metadata": {},
   "outputs": [],
   "source": [
    "import numpy as np\n",
    "import math\n",
    "import scipy as sp \n",
    "import matplotlib.pyplot as plt\n",
    "from scipy import integrate"
   ]
  },
  {
   "cell_type": "markdown",
   "metadata": {},
   "source": [
    "Now we can define our integration algorithms"
   ]
  },
  {
   "cell_type": "code",
   "execution_count": 212,
   "metadata": {},
   "outputs": [],
   "source": [
    "def riemann_midpoint(f,xmin,xmax,n_part):\n",
    "    dx = (xmax - xmin)/float(n_part)\n",
    "    area = 0\n",
    "    for i in range (0,n_part):\n",
    "        area += dx*f(xmin + (i+0.5)*dx)\n",
    "    return area"
   ]
  },
  {
   "cell_type": "code",
   "execution_count": 213,
   "metadata": {},
   "outputs": [
    {
     "data": {
      "text/plain": [
       "3.875"
      ]
     },
     "execution_count": 213,
     "metadata": {},
     "output_type": "execute_result"
    }
   ],
   "source": [
    "riemann_midpoint(lambda x : x**3, 0,2,4)\n",
    "#after defining the integration functions,\n",
    "#I checked to see if they were working by comparing to the values in the lecture slides. "
   ]
  },
  {
   "cell_type": "code",
   "execution_count": 214,
   "metadata": {},
   "outputs": [],
   "source": [
    "def riemann_trap(f,xmin,xmax,n_part):\n",
    "    dx = (xmax - xmin)/float(n_part)\n",
    "    area = 0\n",
    "    for i in range (0,n_part):\n",
    "        area += dx*(f(xmin + i*dx))\n",
    "    area += 0.5 * f(xmax)*dx\n",
    "    return area"
   ]
  },
  {
   "cell_type": "code",
   "execution_count": 215,
   "metadata": {},
   "outputs": [
    {
     "data": {
      "text/plain": [
       "4.25"
      ]
     },
     "execution_count": 215,
     "metadata": {},
     "output_type": "execute_result"
    }
   ],
   "source": [
    "riemann_trap(lambda x : x**3, 0,2,4)"
   ]
  },
  {
   "cell_type": "code",
   "execution_count": 193,
   "metadata": {},
   "outputs": [],
   "source": [
    "def simpson(f, xmin, xmax, n_part):\n",
    "    return riemann_midpoint(f,xmin, xmax, n_part)*(2/3)+ riemann_trap(f,xmin, xmax, n_part)*(1/3)"
   ]
  },
  {
   "cell_type": "code",
   "execution_count": 194,
   "metadata": {},
   "outputs": [
    {
     "data": {
      "text/plain": [
       "3.9999999999999996"
      ]
     },
     "execution_count": 194,
     "metadata": {},
     "output_type": "execute_result"
    }
   ],
   "source": [
    "simpson(lambda x : x**3, 0,2,4)"
   ]
  },
  {
   "cell_type": "markdown",
   "metadata": {},
   "source": [
    "\n",
    "Question\n",
    "Sanity checking your code is very important. How can you check that your functions are working properly?\n",
    "\n",
    "I can put in simple integration functions that I can either easily work out by hand or know the correct answer to \n",
    "in order to compare the results and make sure it is working well.\n",
    "\n",
    "\n",
    "For this notebook assigment we would like to solve the integral\\ $\\int_{a}^{b} \\frac{2}{(2^2 + x^2)^{3/2}}dx$\n",
    "\n",
    "Question\n",
    "Have you seen an integral like this before in physics? From where?\n",
    "Electric Field on the Axis of a Ring of Charge"
   ]
  },
  {
   "cell_type": "markdown",
   "metadata": {},
   "source": [
    "Solve the above integral using the numerical integrations that you wrote. When defining the function we will integrate over do so using python's lambda function.\n",
    "\n",
    "For the integration take $a = 0,\\; b = 2,\\;$ and we will split it up into 6 partitions.\n",
    "\n",
    "Question\n",
    "What is the exact solution?"
   ]
  },
  {
   "cell_type": "code",
   "execution_count": 207,
   "metadata": {},
   "outputs": [],
   "source": [
    "exact_sol = 0.353553"
   ]
  },
  {
   "cell_type": "code",
   "execution_count": 195,
   "metadata": {},
   "outputs": [],
   "source": [
    "funct=lambda x : (2/(4+x**2)**1.5)"
   ]
  },
  {
   "cell_type": "code",
   "execution_count": 196,
   "metadata": {},
   "outputs": [
    {
     "data": {
      "text/plain": [
       "0.3538599754585315"
      ]
     },
     "execution_count": 196,
     "metadata": {},
     "output_type": "execute_result"
    }
   ],
   "source": [
    "riemann_midpoint(funct, 0,2,6)"
   ]
  },
  {
   "cell_type": "code",
   "execution_count": 197,
   "metadata": {},
   "outputs": [
    {
     "data": {
      "text/plain": [
       "0.39460661308079814"
      ]
     },
     "execution_count": 197,
     "metadata": {},
     "output_type": "execute_result"
    }
   ],
   "source": [
    "riemann_trap(funct,0,2,6)"
   ]
  },
  {
   "cell_type": "code",
   "execution_count": 198,
   "metadata": {},
   "outputs": [
    {
     "data": {
      "text/plain": [
       "0.367442187999287"
      ]
     },
     "execution_count": 198,
     "metadata": {},
     "output_type": "execute_result"
    }
   ],
   "source": [
    "simpson(funct, 0,2,6)"
   ]
  },
  {
   "cell_type": "markdown",
   "metadata": {},
   "source": [
    "Use the trapz and simps methods from scipy's integration library to solve the integral."
   ]
  },
  {
   "cell_type": "code",
   "execution_count": 199,
   "metadata": {},
   "outputs": [
    {
     "data": {
      "text/plain": [
       "0.3535533905932738"
      ]
     },
     "execution_count": 199,
     "metadata": {},
     "output_type": "execute_result"
    }
   ],
   "source": [
    "sci_quad=integrate.quad(funct,0,2)\n",
    "sci_quad[0]"
   ]
  },
  {
   "cell_type": "code",
   "execution_count": 200,
   "metadata": {},
   "outputs": [
    {
     "name": "stdout",
     "output_type": "stream",
     "text": [
      "0.35293994641413146\n"
     ]
    }
   ],
   "source": [
    "dx = float((2)/6)\n",
    "xs = np.linspace(0,2,7)  \n",
    "ys = (2/(4+xs**2)**1.5)\n",
    "sci_trap = integrate.trapz(ys,xs,dx)\n",
    "print(sci_trap)"
   ]
  },
  {
   "cell_type": "code",
   "execution_count": 201,
   "metadata": {},
   "outputs": [
    {
     "name": "stdout",
     "output_type": "stream",
     "text": [
      "0.35355179062444925\n"
     ]
    }
   ],
   "source": [
    "sci_simp=integrate.simps(ys,xs)\n",
    "print(sci_simp)"
   ]
  },
  {
   "cell_type": "markdown",
   "metadata": {},
   "source": [
    "Question\n",
    "How do scipy integrals compare to yours? Support your answer.\n",
    "Overal, the scipy integrals are more accurate, this is obvious when looking at the graph below that plots the percent errors."
   ]
  },
  {
   "cell_type": "markdown",
   "metadata": {},
   "source": [
    "Numerically compare your midpoint, trapazoid, and Simpson method results to the exact value by calculating the quantity (approx - exact) / exact for each method."
   ]
  },
  {
   "cell_type": "code",
   "execution_count": 211,
   "metadata": {},
   "outputs": [
    {
     "name": "stdout",
     "output_type": "stream",
     "text": [
      "0.0008682586727632849\n",
      "0.11611728108882723\n",
      "0.03928459947811788\n"
     ]
    }
   ],
   "source": [
    "print(abs(riemann_midpoint(funct, 0,2,6) - exact_sol)/exact_sol)\n",
    "print(abs(riemann_trap(funct, 0,2,6) - exact_sol)/exact_sol)\n",
    "print(abs(simpson(funct, 0,2,6) - exact_sol)/exact_sol)"
   ]
  },
  {
   "cell_type": "code",
   "execution_count": 208,
   "metadata": {},
   "outputs": [],
   "source": [
    "p1 = 100*abs(riemann_midpoint(funct, 0,2,6) - exact_sol)/exact_sol\n",
    "p2 = 100*abs(riemann_trap(funct, 0,2,6) - exact_sol)/exact_sol\n",
    "p3 = 100*abs(simpson(funct, 0,2,6) - exact_sol)/exact_sol\n",
    "p4 = 100*abs(sci_quad[0] - exact_sol)/exact_sol\n",
    "p5 = 100*abs(sci_trap - exact_sol)/exact_sol\n",
    "p6 = 100*abs(sci_simp - exact_sol)/exact_sol"
   ]
  },
  {
   "cell_type": "code",
   "execution_count": 204,
   "metadata": {},
   "outputs": [
    {
     "name": "stdout",
     "output_type": "stream",
     "text": [
      "0.08682586727632849 11.611728108882723 3.9284599478117883 0.00011047658308095684 0.17339793068324988 0.00034206343907679275\n"
     ]
    }
   ],
   "source": [
    "print(p1,p2,p3,p4,p5,p6)"
   ]
  },
  {
   "cell_type": "code",
   "execution_count": 206,
   "metadata": {},
   "outputs": [
    {
     "data": {
      "image/png": "[encoded data removed]",
      "text/plain": [
       "<Figure size 432x288 with 1 Axes>"
      ]
     },
     "metadata": {
      "needs_background": "light"
     },
     "output_type": "display_data"
    }
   ],
   "source": [
    "set = [p1,p2,p3,p4,p5,p6]\n",
    "set2 = ['midpoint', 'trap', 'simpson','sci_quad','sci_trap','sci_simp']\n",
    "plt.plot(set2,set, 'o')\n",
    "plt.plot([0,0,0,0,0,0],'-')\n",
    "plt.show()"
   ]
  },
  {
   "cell_type": "code",
   "execution_count": 217,
   "metadata": {},
   "outputs": [
    {
     "data": {
      "text/plain": [
       "1.7724538509055159"
      ]
     },
     "execution_count": 217,
     "metadata": {},
     "output_type": "execute_result"
    }
   ],
   "source": [
    "sci_quad1=integrate.quad(lambda x : math.exp(-x**2),-np.Inf,np.Inf)\n",
    "sci_quad1[0]"
   ]
  },
  {
   "cell_type": "code",
   "execution_count": null,
   "metadata": {},
   "outputs": [],
   "source": []
  }
 ],
 "metadata": {
  "kernelspec": {
   "display_name": "Python 3",
   "language": "python",
   "name": "python3"
  },
  "language_info": {
   "codemirror_mode": {
    "name": "ipython",
    "version": 3
   },
   "file_extension": ".py",
   "mimetype": "text/x-python",
   "name": "python",
   "nbconvert_exporter": "python",
   "pygments_lexer": "ipython3",
   "version": "3.8.3"
  }
 },
 "nbformat": 4,
 "nbformat_minor": 4
}
